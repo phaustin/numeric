{
 "cells": [],
 "metadata": {
  "jupytext": {
   "cell_metadata_filter": "all",
   "notebook_metadata_filter": "all,-language_info,-toc,-latex_envs"
  }
 },
 "nbformat": 4,
 "nbformat_minor": 4
}
