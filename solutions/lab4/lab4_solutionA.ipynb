{
 "cells": [
  {
   "cell_type": "markdown",
   "metadata": {},
   "source": [
    "# Lab 4:  ODES part 1"
   ]
  },
  {
   "cell_type": "markdown",
   "metadata": {},
   "source": [
    "## List of Problems \n",
    "\n",
    "<!-- {#list-of-problems .unnumbered} -->\n",
    "\n",
    "- [Problem midpoint](#problem_midpoint)\n",
    "\n",
    "- [Problem tableau](#problem_tableau)\n",
    "\n",
    "- [Problem Runge Kutta4](#problem_rk4)\n",
    "\n",
    "  - [RK q1 answer](#q1_answer)\n",
    "  \n",
    "  - [RK q2 answer](#q2_answer)\n",
    "\n",
    "- [Problem embedded](#problem_embedded)\n",
    "\n",
    "  - [embeded answer](embedded_answer)\n",
    "  \n",
    "  \n",
    "- Coding answers in separate notebook\n",
    "\n",
    "  - [Problem coding A](#prob_a)\n",
    "\n",
    "  - [Problem coding B](#prob_b)\n",
    "\n",
    "  - [Problem coding C](#prob_c)\n",
    "\n",
    "\n"
   ]
  },
  {
   "cell_type": "markdown",
   "metadata": {},
   "source": [
    "# Objectives\n",
    "In this lab, you will explore Runge-Kutta methods for solving ordinary\n",
    "differential equations. The goal is to gain a better understanding of\n",
    "some of the more popular Runge-Kutta methods and the corresponding\n",
    "numerical code.\n",
    "\n",
    "Specifically you will be able to:\n",
    "\n",
    "-   describe the mid-point method\n",
    "\n",
    "-   construct a Runge-Kutta tableau from equations or equations from a\n",
    "    tableau\n",
    "\n",
    "-   describe how a Runge-Kutta method estimates truncation error\n",
    "\n",
    "-   edit a working Octave code to use a different method or solve a\n",
    "    different problem"
   ]
  },
  {
   "cell_type": "markdown",
   "metadata": {},
   "source": [
    "# Readings\n",
    "\n",
    "\n",
    "There is no required reading for this lab, beyond the contents of the\n",
    "lab itself. However, if you would like additional background on any of\n",
    "the following topics, then refer to the sections indicated below.\n",
    "\n",
    "**Runge-Kutta Methods:**\n",
    "\n",
    "    -   Newman, Chapter 8\n",
    "\n",
    "    -   Press, et al.  Section 16.1\n",
    "\n",
    "    -   Burden & Faires  Section 5.4\n",
    "    "
   ]
  },
  {
   "cell_type": "markdown",
   "metadata": {},
   "source": [
    "# Solving Ordinary Differential Equations with the Runge-Kutta Methods \n",
    "\n",
    "Ordinary differential equations (ODEs) arise in many physical\n",
    "situations. For example, there is the first-order Newton cooling\n",
    "equation discussed in , and perhaps the most famous equation of all, the\n",
    "second-order Newton’s Second Law of Mechanics $F=ma$ .\n",
    "\n",
    "In general, higher-order equations, such as Newton’s force equation, can\n",
    "be rewritten as a system of first-order equations . So the generic\n",
    "problem in ODEs is a set of N coupled first-order differential equations\n",
    "of the form, \n",
    "\n",
    "$$\n",
    "  \\frac{d{\\bf y}}{dt} = f({\\bf y},t)\n",
    "$$ \n",
    "  \n",
    "where ${\\bf y}$ is a vector of\n",
    "variables.\n",
    "\n",
    "For a complete specification of the solution, boundary conditions for\n",
    "the problem must be given. Typically, the problems are broken up into\n",
    "two classes:\n",
    "\n",
    "-   **Initial Value Problem (IVP)**: the initial values of\n",
    "    ${\\bf y}$ are specified.\n",
    "\n",
    "-   **Boundary Value Problem (BVP)**: ${\\bf y}$ is\n",
    "    specified at the initial and final times.\n",
    "\n",
    "For this lab, we are concerned with the IVP’s. BVP’s tend to be much\n",
    "more difficult to solve and involve techniques which will not be dealt\n",
    "with in this set of labs.\n",
    "\n",
    "Now as was pointed out in , in general, it will not be possible to find\n",
    "exact, analytic solutions to the ODE. However, it is possible to find an\n",
    "approximate solution with a finite difference scheme such as the forward\n",
    "Euler method . This is a simple first-order, one-step scheme which is\n",
    "easy to implement. However, this method is rarely used in practice as it\n",
    "is neither very stable nor accurate.\n",
    "\n",
    "The higher-order Taylor methods discussed in are one alternative but\n",
    "involve higher-order derivatives that must be calculated by hand or\n",
    "worked out numerically in a multi-step scheme. Like the forward Euler\n",
    "method, stability is a concern.\n",
    "\n",
    "The Runge-Kutta methods are higher-order, one-step schemes that makes\n",
    "use of information at different <span>*stages*</span> between the\n",
    "beginning and end of a step. They are more stable and accurate than the\n",
    "forward Euler method and are still relatively simple compared to schemes\n",
    "such as the multi-step predictor-corrector methods or the Bulirsch-Stoer\n",
    "method. Though they lack the accuracy and efficiency of these more\n",
    "sophisticated schemes, they are still powerful methods that almost\n",
    "always succeed for non-stiff IVPs."
   ]
  },
  {
   "cell_type": "markdown",
   "metadata": {},
   "source": [
    "# The Midpoint Method: A Two-Stage Runge-Kutta Method \n",
    "\n",
    "The forward Euler method takes the solution at time $t_n$ and advances\n",
    "it to time $t_{n+1}$ using the value of the derivative $f(y_n,t_n)$ at\n",
    "time $t_n$ \n",
    "\n",
    "$$y_{n+1} = y_n + h f(y_n,t_n)$$ \n",
    "\n",
    "where $h \\equiv \\Delta t$."
   ]
  },
  {
   "cell_type": "code",
   "execution_count": 1,
   "metadata": {},
   "outputs": [
    {
     "data": {
      "image/png": "[encoded data removed]",
      "text/plain": [
       "<IPython.core.display.Image object>"
      ]
     },
     "execution_count": 1,
     "metadata": {},
     "output_type": "execute_result"
    }
   ],
   "source": [
    "from IPython.display import Image\n",
    "Image(filename=\"images/euler.png\")"
   ]
  },
  {
   "cell_type": "markdown",
   "metadata": {},
   "source": [
    "Figure euler: The forward Euler method is essentially a straight-line approximation\n",
    "to the solution, over the interval of one step, using the derivative at\n",
    "the starting point as the slope. \n",
    "\n",
    "The idea of the Runge-Kutta schemes is to take advantage of derivative\n",
    "information at the times between $t_n$ and $t_{n+1}$ to increase the\n",
    "order of accuracy.\n",
    "\n",
    "For example, in the midpoint method, the derivative at the initial time\n",
    "is used to approximate the derivative at the midpoint of the interval,\n",
    "$f(y_n+\\frac{1}{2}hf(y_n,t_n), t_n+\\frac{1}{2}h)$. The derivative at the\n",
    "midpoint is then used to advance the solution to the next step. The\n",
    "method can be written in two *stages* $k_i$,\n",
    "\n",
    "<a name=\"eq_midpoint\"></a>\n",
    "$$\n",
    "\\begin{aligned}\n",
    "   \\begin{array}{l}\n",
    "    k_1 =  h f(y_n,t_n)\\\\\n",
    "    k_2 = h f(y_n+\\frac{1}{2}k_1, t_n+\\frac{1}{2}h)\\ \\ \\rm{eq: midpoint}\\\\\n",
    "    y_{n+1} = y_n + k_2\n",
    "  \\end{array}\n",
    "\\end{aligned}\n",
    "$$ \n",
    "\n",
    "The midpoint method is known\n",
    "as a 2-stage Runge-Kutta formula.\n",
    "\n"
   ]
  },
  {
   "cell_type": "code",
   "execution_count": 2,
   "metadata": {},
   "outputs": [
    {
     "data": {
      "image/png": "[encoded data removed]",
      "text/plain": [
       "<IPython.core.display.Image object>"
      ]
     },
     "execution_count": 2,
     "metadata": {},
     "output_type": "execute_result"
    }
   ],
   "source": [
    "Image(filename='images/midpoint.png')"
   ]
  },
  {
   "cell_type": "markdown",
   "metadata": {},
   "source": [
    "Figure midpoint: The midpoint method again uses the derivative at the starting point to\n",
    "approximate the solution at the midpoint. The derivative at the midpoint\n",
    "is then used as the slope of the straight-line approximation."
   ]
  },
  {
   "cell_type": "markdown",
   "metadata": {},
   "source": [
    "# Second-Order Runge-Kutta Methods\n",
    "\n",
    "As was shown in lab 2 , the error in the forward Euler method is\n",
    "proportional to $h$. In other words, the forward Euler method has an\n",
    "accuracy which is *first order* in $h$.\n",
    "\n",
    "The advantage of the midpoint method is that the extra derivative\n",
    "information at the midpoint results in the first order error term\n",
    "cancelling out, making the method *second order* accurate.\n",
    "This can be shown by a Taylor expansion of equation\n",
    "[eq: midpoint](#eq_midpoint)\n",
    "\n",
    "<a name='problem_midpoint'></a>\n",
    "**Problem midpoint**: Even though the midpoint method is second-order\n",
    "accurate, it may still be less accurate than the forward Euler method.\n",
    "In the demo below, compare the accuracy of the two methods on the\n",
    "initial value problem \n",
    "\n",
    "$$\n",
    "  \\frac{dy}{dt} = -y +t +1,  \\;\\;\\;\\; y(0) =1\\ \\ \\textbf{eq: linexp}\n",
    "$$ \n",
    "\n",
    "which has the exact\n",
    "solution \n",
    "$$\n",
    "  y(t) = t + e^{-t}\n",
    "$$"
   ]
  },
  {
   "cell_type": "markdown",
   "metadata": {},
   "source": [
    "1.  Why is it possible that the midpoint method may be less accurate\n",
    "    than the forward Euler method, even though it is a higher order\n",
    "    method?\n",
    "\n",
    "2.  Based on the numerical solutions of (eq: linexp), which method\n",
    "    appears more accurate?\n",
    "\n",
    "3.  Cut the stepsize in half and check the error at a given time. Repeat\n",
    "    a couple of more times. How does the error drop relative to the\n",
    "    change in stepsize?\n",
    "\n",
    "4.  How do the numerical solutions compare to $y(t) = t + e^{-t}$ when\n",
    "    you change the initial time? Why?"
   ]
  },
  {
   "cell_type": "code",
   "execution_count": 3,
   "metadata": {},
   "outputs": [
    {
     "name": "stdout",
     "output_type": "stream",
     "text": [
      "******************************\n",
      "context imported. Front of path:\n",
      "/Users/phil/repos/numeric/solutions\n",
      "back of path: /Users/phil/.ipython\n",
      "******************************\n",
      "\n",
      "through /Users/phil/repos/numeric/solutions/lab4/context.py\n"
     ]
    },
    {
     "data": {
      "text/plain": [
       "Text(0.5, 1.0, 'interactive 4.1')"
      ]
     },
     "execution_count": 3,
     "metadata": {},
     "output_type": "execute_result"
    },
    {
     "data": {
      "image/png": "[encoded data removed]",
      "text/plain": [
       "<Figure size 432x288 with 1 Axes>"
      ]
     },
     "metadata": {
      "needs_background": "light"
     },
     "output_type": "display_data"
    }
   ],
   "source": [
    "%matplotlib inline\n",
    "import context\n",
    "from numlabs.lab4.lab4_functions import initinter41,eulerinter41,midpointinter41\n",
    "import numpy as np\n",
    "from matplotlib import pyplot as plt\n",
    "\n",
    "initialVals={'yinitial': 1,'t_beg':0.,'t_end':1.,'dt':0.25,'c1':-1.,'c2':1.,'c3':1.}\n",
    "coeff = initinter41(initialVals)\n",
    "timeVec=np.arange(coeff.t_beg,coeff.t_end,coeff.dt)\n",
    "nsteps=len(timeVec)\n",
    "ye=[]\n",
    "ym=[]\n",
    "y=coeff.yinitial\n",
    "ye.append(coeff.yinitial)\n",
    "ym.append(coeff.yinitial)\n",
    "for i in np.arange(1,nsteps):\n",
    "    ynew=eulerinter41(coeff,y,timeVec[i-1])\n",
    "    ye.append(ynew)\n",
    "    ynew=midpointinter41(coeff,y,timeVec[i-1])\n",
    "    ym.append(ynew)\n",
    "    y=ynew\n",
    "analytic=timeVec + np.exp(-timeVec)\n",
    "theFig,theAx=plt.subplots(1,1)\n",
    "l1=theAx.plot(timeVec,analytic,'b-',label='analytic')\n",
    "theAx.set_xlabel('time (seconds)')\n",
    "l2=theAx.plot(timeVec,ye,'r-',label='euler')\n",
    "l3=theAx.plot(timeVec,ym,'g-',label='midpoint')\n",
    "theAx.legend(loc='best')\n",
    "theAx.set_title('interactive 4.1')"
   ]
  },
  {
   "cell_type": "markdown",
   "metadata": {},
   "source": [
    "In general, an *explicit* 2-stage Runge-Kutta method can be\n",
    "written as, \n",
    "\n",
    "$$\n",
    "\\begin{aligned}\n",
    "   \\begin{array}{l}\n",
    "    k_1 =  h f(y_n,t_n)\\\\\n",
    "    k_2 = h f(y_n+b_{21}k_1, t_n+a_2h)\\ \\ \\ \\textbf{eq: explicitrk2}  \\\\\n",
    "    y_{n+1} = y_n + c_1k_1 +c_2k_2\n",
    "  \\end{array}\n",
    "\\end{aligned}\n",
    "$$\n",
    "   \n",
    "   The scheme is said to be\n",
    "<span>*explicit*</span> since a given stage does not depend\n",
    "<span>*implicitly*</span> on itself, as in the backward Euler method ,\n",
    "or on a later stage.\n",
    "\n",
    "Other explicit second-order schemes can be derived by comparing the\n",
    "formula [eq: explicitrk2](#eq: explicitrk2) to the second-order Taylor method and\n",
    "matching terms to determine the coefficients $a_2$, $b_{21}$, $c_1$ and\n",
    "$c_2$.\n",
    "\n",
    "See [Appendix midpoint](#app_midpoint) for the derivation of the midpoint\n",
    "method."
   ]
  },
  {
   "cell_type": "markdown",
   "metadata": {},
   "source": [
    "## The Runge-Kutta Tableau \n",
    "\n",
    "A general s-stage Runge-Kutta method can be written as,\n",
    "$$\n",
    "\\begin{aligned}\n",
    "    \\begin{array}{l}\n",
    "    k_i = h f(y_n+ {\\displaystyle \\sum_{j=1}^{s} } b_{ij}k_j, t_n+a_ih), \n",
    "                                                          \\;\\;\\; i=1,..., s\\\\\n",
    "    y_{n+1} = y_n + {\\displaystyle \\sum_{j=1}^{s}} c_jk_j \n",
    "  \\end{array}\n",
    "   \\end{aligned}\n",
    "$$\n",
    "\n",
    "<!-- \\label{lab4:eq:rks} -->\n",
    "\n",
    "An *explicit* Runge-Kutta method has $b_{ij}=0$ for\n",
    "$i\\leq j$, i.e. a given stage $k_i$ does not depend on itself or a later\n",
    "stage $k_j$.\n",
    "\n",
    "The coefficients can be expressed in a tabular form known as the\n",
    "Runge-Kutta tableau. \n",
    "\n",
    "$$\n",
    "\\begin{array}{|c|c|cccc|c|} \\hline\n",
    "i & a_i &{b_{ij}} &  &  && c_i \\\\ \\hline\n",
    "1 & a_1 & b_{11} & b_{12} & ... & b_{1s} & c_1\\\\\n",
    "2 & a_2 & b_{21} & b_{22} & ... & b_{2s} & c_2\\\\ \n",
    "\\vdots & \\vdots & \\vdots & \\vdots &  & \\vdots & \\vdots\\\\\n",
    "s &a_s & b_{s1} & b_{s2} & ... & b_{ss} & c_s\\\\\\hline\n",
    "{j=} & & 1 \\  2 & ... & s & \\\\ \\hline\n",
    "\\end{array}\n",
    "$$ "
   ]
  },
  {
   "cell_type": "markdown",
   "metadata": {},
   "source": [
    "\n",
    "An explicit scheme will be strictly lower-triangular.\n",
    "\n",
    "For example, a general 2-stage Runge-Kutta method, \n",
    "\n",
    "$$\n",
    "\\begin{aligned}\n",
    "    \\begin{array}{l}\n",
    "    k_1 =  h f(y_n+b_{11}k_1+b_{12}k_2,t_n+a_1h)\\\\\n",
    "    k_2 = h f(y_n+b_{21}k_1+b_{22}k_2, t_n+a_2h)\\\\\n",
    "    y_{n+1} = y_n + c_1k_1 +c_2k_2\n",
    "  \\end{array}\n",
    "  \\end{aligned}\n",
    "  $$ \n",
    "  \n",
    "  has the coefficients,\n",
    "\n",
    "$$\n",
    "\\begin{array}{|c|c|cc|c|} \\hline\n",
    "i & a_i & {b_{ij}} & & c_i \\\\ \\hline\n",
    "1 & a_1 & b_{11} & b_{12}  & c_1\\\\\n",
    "2 & a_2 & b_{21} & b_{22}  & c_2\\\\ \\hline\n",
    "{j=} & & 1 & 2 & \\\\ \\hline\n",
    "\\end{array}\n",
    "$$\n",
    "\n",
    "<!-- \\label{lab4:eq:rk2} -->\n",
    "\n",
    "In particular, the midpoint method is given by the tableau,\n",
    "\n",
    "$$\n",
    "\\begin{array}{|c|c|cc|c|} \\hline\n",
    "i & a_i & {b_{ij}} &   & c_i \\\\ \\hline\n",
    "1 & 0 & 0 &  0 & 0\\\\\n",
    "2 & \\frac{1}{2} & \\frac{1}{2} & 0 & 1\\\\ \\hline\n",
    "{j=} & & 1 & 2 & \\\\ \\hline\n",
    "\\end{array}\n",
    "$$"
   ]
  },
  {
   "cell_type": "markdown",
   "metadata": {},
   "source": [
    "<a name=\"problem_tableau\"></a>\n",
    "\n",
    "**Problem tableau**: Write out the tableau for\n",
    "\n",
    "1.  [Heun’s method](#eq_heuns)\n",
    "\n",
    "2.  the fourth-order Runge-Kutta method ([lab4:eq:rk4]) discussed in the\n",
    "    next section.\n",
    "\n",
    "## Explicit Fourth-Order Runge-Kutta Method \n",
    "\n",
    "<!-- {#lab4:sec:rk4} -->\n",
    "\n",
    "\n",
    "Explicit Runge-Kutta methods are popular as each stage can be calculated\n",
    "with one function evaluation. In contrast, implicit Runge-Kutta methods\n",
    "usually involves solving a non-linear system of equations in order to\n",
    "evaluate the stages. As a result, explicit schemes are much less\n",
    "expensive to implement than implicit schemes.\n",
    "\n",
    "However, there are cases in which implicit schemes are necessary and\n",
    "that is in the case of *stiff* sets of equations. See\n",
    "section 16.6 of Press et al. for a discussion. For these labs, we will\n",
    "focus on non-stiff equations and on explicit Runge-Kutta methods.\n",
    "\n",
    "The higher-order Runge-Kutta methods can be derived by in manner similar\n",
    "to the midpoint formula. An s-stage method is compared to a Taylor\n",
    "method and the terms are matched up to the desired order.\n",
    "\n",
    "Methods of order $M > 4$ require $M+1$ or $M+2$ function evaluations or\n",
    "stages, in the case of explicit Runge-Kutta methods. As a result,\n",
    "fourth-order Runge-Kutta methods have achieved great popularity over the\n",
    "years as they require only four function evaluations per step. In\n",
    "particular, there is the classic fourth-order Runge-Kutta formula:\n",
    "\n",
    "$$\n",
    "\\begin{aligned}\n",
    "  \\begin{array}{l}\n",
    "    k_1 =  h f(y_n,t_n)\\\\\n",
    "    k_2 = h f(y_n+\\frac{k_1}{2}, t_n+\\frac{h}{2})\\\\\n",
    "    k_3 = h f(y_n+\\frac{k_2}{2}, t_n+\\frac{h}{2})\\\\\n",
    "    k_4 = h f(y_n+k_3, t_n+h)\\\\\n",
    "    y_{n+1} = y_n + \\frac{k_1}{6}+ \\frac{k_2}{3}+ \\frac{k_3}{3} + \\frac{k_4}{6}\n",
    "  \\end{array}\n",
    "  \\end{aligned} \n",
    "$$\n",
    "\n",
    "<!-- \\label{lab4:eq:rk4}  -->\n",
    "<a name=\"problem_rk4\"></a>\n",
    "**Problem rk4**: In the demo below, compare compare solutions to the test\n",
    "problem (eq: test)\n",
    "\n",
    "$$\n",
    "\\frac{dy}{dt} = -y +t +1,  \\;\\;\\;\\; y(0) =1\\ \\ \\ \\mathbf{eq: test}\n",
    "$$ \n",
    "\n",
    "generated with the\n",
    "fourth-order Runge-Kutta method to solutions generated by the forward\n",
    "Euler and midpoint methods.\n",
    "\n",
    "1.  Based on the numerical solutions of (eq: test), which of the\n",
    "    three methods appears more accurate?\n",
    "\n",
    "2.  Again determine how the error changes relative to the change in\n",
    "    stepsize, as the stepsize is halved."
   ]
  },
  {
   "cell_type": "markdown",
   "metadata": {},
   "source": [
    "### RK4 question 1 answer\n",
    "\n",
    "<div id=\"q1_answer\"></div>\n",
    "\n",
    "RK4 is most accurate with dt=0.05\n",
    "\n",
    "**code:**"
   ]
  },
  {
   "cell_type": "code",
   "execution_count": 4,
   "metadata": {
    "scrolled": true
   },
   "outputs": [
    {
     "name": "stdout",
     "output_type": "stream",
     "text": [
      "RK4 appears most accurate of the schemes for dt = 0.05\n"
     ]
    },
    {
     "name": "stderr",
     "output_type": "stream",
     "text": [
      "/Users/phil/a50037/envs/numeric/lib/python3.7/site-packages/ipykernel_launcher.py:46: RuntimeWarning: divide by zero encountered in log10\n",
      "/Users/phil/a50037/envs/numeric/lib/python3.7/site-packages/ipykernel_launcher.py:47: RuntimeWarning: divide by zero encountered in log10\n",
      "/Users/phil/a50037/envs/numeric/lib/python3.7/site-packages/ipykernel_launcher.py:48: RuntimeWarning: divide by zero encountered in log10\n"
     ]
    },
    {
     "data": {
      "image/png": "[encoded data removed]",
      "text/plain": [
       "<Figure size 432x288 with 1 Axes>"
      ]
     },
     "metadata": {
      "needs_background": "light"
     },
     "output_type": "display_data"
    },
    {
     "data": {
      "image/png": "[encoded data removed]",
      "text/plain": [
       "<Figure size 432x288 with 1 Axes>"
      ]
     },
     "metadata": {
      "needs_background": "light"
     },
     "output_type": "display_data"
    }
   ],
   "source": [
    "from numlabs.lab4.lab4_functions import initinter41,eulerinter41,midpointinter41,\\\n",
    "                                        rk4ODEinter41\n",
    "initialVals={'yinitial': 1,'t_beg':0.,'t_end':1.,'dt':0.05,'c1':-1.,'c2':1.,'c3':1.}\n",
    "coeff = initinter41(initialVals)\n",
    "timeVec=np.arange(coeff.t_beg,coeff.t_end,coeff.dt)\n",
    "nsteps=len(timeVec)\n",
    "ye=[]\n",
    "ym=[]\n",
    "yrk=[]\n",
    "y=coeff.yinitial\n",
    "ye.append(coeff.yinitial)\n",
    "ym.append(coeff.yinitial)\n",
    "yrk.append(coeff.yinitial)\n",
    "for i in np.arange(1,nsteps):\n",
    "    ynew=eulerinter41(coeff,y,timeVec[i-1])\n",
    "    ye.append(ynew)\n",
    "    ynew=midpointinter41(coeff,y,timeVec[i-1])\n",
    "    ym.append(ynew)\n",
    "    ynew=rk4ODEinter41(coeff,y,timeVec[i-1])\n",
    "    yrk.append(ynew)\n",
    "    y=ynew\n",
    "analytic=timeVec + np.exp(-timeVec)\n",
    "theFig=plt.figure(0)\n",
    "theFig.clf()\n",
    "theAx=theFig.add_subplot(111)\n",
    "l1=theAx.plot(timeVec,analytic,'b-',label='analytic')\n",
    "theAx.set_xlabel('time (seconds)')\n",
    "l2=theAx.plot(timeVec,ye,'r-',label='euler')\n",
    "l3=theAx.plot(timeVec,ym,'g-',label='midpoint')\n",
    "l4=theAx.plot(timeVec,yrk,'m-',label='rk4')\n",
    "theAx.legend(loc='best')\n",
    "theAx.set_title('interactive 4.2')\n",
    "\n",
    "# add error plot \n",
    "\n",
    "e_diff = np.abs(analytic - ye)\n",
    "m_diff = np.abs(analytic - ym)\n",
    "rk_diff = np.abs(analytic - yrk)\n",
    "\n",
    "theFig=plt.figure(1)\n",
    "theFig.clf()\n",
    "theAx=theFig.add_subplot(111)\n",
    "\n",
    "theAx.set_xlabel('time (seconds)')\n",
    "theAx.set_ylabel('log(error)')\n",
    "l2=theAx.plot(timeVec,np.log10(e_diff),'r-',label='euler error')\n",
    "l3=theAx.plot(timeVec,np.log10(m_diff),'g-',label='midpoint error')\n",
    "l4=theAx.plot(timeVec,np.log10(rk_diff),'m-',label='rk4 error')\n",
    "theAx.legend(loc='upper left')\n",
    "theAx.set_title('error plot for original dt = {}'.format(initialVals['dt']))\n",
    "\n",
    "out_string = 'RK4 appears most accurate of the schemes for dt = {}'.format(initialVals['dt'])\n",
    "print(out_string)\n",
    "end_error_orig = rk_diff[-1]"
   ]
  },
  {
   "cell_type": "markdown",
   "metadata": {},
   "source": [
    "### RK4 q2 answer\n",
    "\n",
    "<div id=\"q2_answer\"></div>\n",
    "\n",
    "Halving the timestep for RK4 improves accuracy by factor of 10\n",
    "\n",
    "**Code**:"
   ]
  },
  {
   "cell_type": "code",
   "execution_count": 5,
   "metadata": {
    "lines_to_next_cell": 2,
    "scrolled": true
   },
   "outputs": [
    {
     "name": "stderr",
     "output_type": "stream",
     "text": [
      "/Users/phil/a50037/envs/numeric/lib/python3.7/site-packages/ipykernel_launcher.py:45: RuntimeWarning: divide by zero encountered in log10\n",
      "/Users/phil/a50037/envs/numeric/lib/python3.7/site-packages/ipykernel_launcher.py:46: RuntimeWarning: divide by zero encountered in log10\n",
      "/Users/phil/a50037/envs/numeric/lib/python3.7/site-packages/ipykernel_launcher.py:47: RuntimeWarning: divide by zero encountered in log10\n"
     ]
    },
    {
     "name": "stdout",
     "output_type": "stream",
     "text": [
      "Degree of error decreased to 1e-9 when the timestep is halved to dt = 0.025\n",
      "At t = 1.0 s, original timestep error = 1.995e-08, halved error = 1.222e-09\n",
      "Halved error/original error = 1.632e+01 at t = 1.0 s, i.e. factor of 10 improvement\n",
      "Errors at t = 1.0 s: E = 1.199e-04, M = 1.002e-06, RK4 = 1.222e-09\n"
     ]
    },
    {
     "data": {
      "image/png": "[encoded data removed]",
      "text/plain": [
       "<Figure size 432x288 with 1 Axes>"
      ]
     },
     "metadata": {
      "needs_background": "light"
     },
     "output_type": "display_data"
    },
    {
     "data": {
      "image/png": "[encoded data removed]",
      "text/plain": [
       "<Figure size 432x288 with 1 Axes>"
      ]
     },
     "metadata": {
      "needs_background": "light"
     },
     "output_type": "display_data"
    }
   ],
   "source": [
    "initialVals={'yinitial': 1,'t_beg':0.,'t_end':1.,'dt':0.025,'c1':-1.,'c2':1.,'c3':1.}\n",
    "coeff = initinter41(initialVals)\n",
    "\n",
    "timeVec=np.arange(coeff.t_beg,coeff.t_end,coeff.dt) \n",
    "nsteps=len(timeVec)\n",
    "ye=[]\n",
    "ym=[]\n",
    "yrk=[]\n",
    "y=coeff.yinitial\n",
    "ye.append(coeff.yinitial)\n",
    "ym.append(coeff.yinitial)\n",
    "yrk.append(coeff.yinitial)\n",
    "for i in np.arange(1,nsteps):\n",
    "    ynew=eulerinter41(coeff,y,timeVec[i-1])\n",
    "    ye.append(ynew)\n",
    "    ynew=midpointinter41(coeff,y,timeVec[i-1])\n",
    "    ym.append(ynew)\n",
    "    ynew=rk4ODEinter41(coeff,y,timeVec[i-1])\n",
    "    yrk.append(ynew)\n",
    "    y=ynew\n",
    "analytic=timeVec + np.exp(-timeVec)\n",
    "theFig=plt.figure(0)\n",
    "theFig.clf()\n",
    "theAx=theFig.add_subplot(111)\n",
    "l1=theAx.plot(timeVec,analytic,'b-',label='analytic')\n",
    "theAx.set_xlabel('time (seconds)')\n",
    "l2=theAx.plot(timeVec,ye,'r-',label='euler')\n",
    "l3=theAx.plot(timeVec,ym,'g-',label='midpoint')\n",
    "l4=theAx.plot(timeVec,yrk,'m-',label='rk4')\n",
    "theAx.legend(loc='best')\n",
    "theAx.set_title('interactive 4.2')\n",
    "\n",
    "# add error plot \n",
    "\n",
    "e_diff = np.abs(analytic - ye)\n",
    "m_diff = np.abs(analytic - ym)\n",
    "rk_diff = np.abs(analytic - yrk)\n",
    "\n",
    "theFig=plt.figure(1)\n",
    "theFig.clf()\n",
    "theAx=theFig.add_subplot(111)\n",
    "\n",
    "theAx.set_xlabel('time (seconds)')\n",
    "theAx.set_ylabel('log(error)')\n",
    "l2=theAx.plot(timeVec,np.log10(e_diff),'r-',label='euler error')\n",
    "l3=theAx.plot(timeVec,np.log10(m_diff),'g-',label='midpoint error')\n",
    "l4=theAx.plot(timeVec,np.log10(rk_diff),'m-',label='rk4 error')\n",
    "theAx.legend(loc='upper left')\n",
    "theAx.set_title('error plot for dt = {}'.format(coeff.dt))\n",
    "\n",
    "out_string = 'Degree of error decreased to 1e-9 when the timestep is halved to dt = {}'.format(coeff.dt)\n",
    "print(out_string)\n",
    "end_error_half = rk_diff[-1]\n",
    "print('At t = 1.0 s, original timestep error = {:.3e}, halved error = {:.3e}'.format(end_error_orig, end_error_half))\n",
    "print('Halved error/original error = {:.3e} at t = 1.0 s, i.e. factor of 10 improvement'.format(end_error_orig/end_error_half))\n",
    "print('Errors at t = 1.0 s: E = {:.3e}, M = {:.3e}, RK4 = {:.3e}'.format(e_diff[-1],m_diff[-1],end_error_half))"
   ]
  },
  {
   "cell_type": "markdown",
   "metadata": {},
   "source": [
    "## Embedded Runge-Kutta Methods: Estimate of the Truncation Error \n",
    "\n",
    "<!-- {#lab4:sec:embeddedrk} -->\n",
    "\n",
    "It is possible to find two methods of different order which share the\n",
    "same stages $k_i$ and differ only in the way they are combined, i.e. the\n",
    "coefficients $c_i$. For example, the original so-called embedded\n",
    "Runge-Kutta scheme was discovered by Fehlberg and consisted of a\n",
    "fourth-order scheme and fifth-order scheme which shared the same six\n",
    "stages.\n",
    "\n",
    "In general, a fourth-order scheme embedded in a fifth-order scheme will\n",
    "share the stages \n",
    "\n",
    "$$\n",
    "\\begin{aligned}\n",
    "  \\begin{array}{l}\n",
    "    k_1 =  h f(y_n,t_n)\\\\\n",
    "    k_2 = h f(y_n+b_{21}k_1, t_n+a_2h)\\\\\n",
    "    \\vdots \\\\\n",
    "    k_6 = h f(y_n+b_{51}k_1+ ...+b_{56}k_6, t_n+a_6h)\n",
    "  \\end{array}\n",
    "   \\end{aligned}\n",
    "$$\n",
    "\n",
    " <!-- \\label{lab4:eq:stages} -->\n",
    "\n",
    "<!-- \\label{lab4:eq:fifth} -->\n",
    "\n",
    "\n",
    "The fifth-order formula takes the step: \n",
    "\n",
    "$$\n",
    "  y_{n+1}=y_n+c_1k_1+c_2k_2+c_3k_3+c_4k_4+c_5k_5+c_6k_6\n",
    "$$ \n",
    "\n",
    "while the\n",
    "embedded fourth-order formula takes a different step:\n",
    "\n",
    "<!-- \\label{lab4:eq:fourth} -->\n",
    "\n",
    "$$\n",
    " y_{n+1}^*=y_n+c^*_1k_1+c^*_2k_2+c^*_3k_3+c^*_4k_4+c^*_5k_5+c^*_6k_6\n",
    "$$\n",
    "\n",
    "If we now take the difference between the two numerical estimates, we\n",
    "get an estimate $\\Delta_{\\rm spec}$ of the truncation error for the\n",
    "fourth-order method, \n",
    "\n",
    "<!-- \\label{lab4:eq:errorest} -->\n",
    "$$\n",
    " \\Delta_{\\rm est}(i)=y_{n+1}(i) - y_{n+1}^{*}(i) \n",
    "= \\sum^{6}_{i=1}(c_i-c_{i}^{*})k_i\n",
    "$$ \n",
    "\n",
    "This will prove to be very useful\n",
    "in the next lab where we provide the Runge-Kutta algorithms with\n",
    "adaptive stepsize control. The error estimate is used as a guide to an\n",
    "appropriate choice of stepsize.\n",
    "\n",
    "An example of an embedded Runge-Kutta scheme was found by Cash and Karp\n",
    "and has the tableau: "
   ]
  },
  {
   "cell_type": "markdown",
   "metadata": {},
   "source": [
    "$$\n",
    "\\begin{array}{|c|c|cccccc|c|c|} \\hline\n",
    "i & a_i & {b_{ij}} & & & & &  & c_i & c^*_i \\\\ \\hline\n",
    "1 &  &  &  &  & &  &  & \\frac{37}{378} & \\frac{2825}{27648}\\\\\n",
    "2 & \\frac{1}{5} & \\frac{1}{5}&  &  & &  & & 0 &0 \\\\\n",
    "3 & \\frac{3}{10} & \\frac{3}{40}&\\frac{9}{40}&  & & &  &\\frac{250}{621}&\\frac{18575}{48384}\\\\\n",
    "4 &  \\frac{3}{5}&\\frac{3}{10}& -\\frac{9}{10}&\\frac{6}{5}& & &  &\\frac{125}{594}& \\frac{13525}{55296}\\\\\n",
    "5 & 1 & -\\frac{11}{54}&\\frac{5}{2}&-\\frac{70}{27}&\\frac{35}{27}&  &  & 0 & \\frac{277}{14336}\\\\\n",
    "6 &  \\frac{7}{8}&  \\frac{1631}{55296}&  \\frac{175}{512}&\\frac{575}{13824}& \\frac{44275}{110592}& \\frac{253}{4096}&  & \\frac{512}{1771} & \\frac{1}{4}\\\\\\hline\n",
    "{j=} & & 1 & 2 & 3 & 4 & 5 & 6 & & \\\\ \\hline\n",
    "\\end{array}\n",
    "$$"
   ]
  },
  {
   "cell_type": "markdown",
   "metadata": {},
   "source": [
    "<a name=\"problem_embedded\"></a>\n",
    "**Problem embedded**: Though the error estimate is for the embedded\n",
    "fourth-order Runge-Kutta method, the fifth-order method can be used in\n",
    "practice for calculating the solution, the assumption being the\n",
    "fifth-order method should be at least as accurate as the fourth-order\n",
    "method. In the demo below, compare solutions of the test problem\n",
    "(eq: test2]) \n",
    "\n",
    "$$\\frac{dy}{dt} = -y +t +1,  \\;\\;\\;\\; y(0) =1\\ \\ \\ \\mathbf{eq: test2}$$\n",
    "\n",
    "generated by the fifth-order method with solutions generated by the\n",
    "standard fourth-order Runge-Kutta method. Which method\n",
    "is more accurate? Again, determine how the error decreases as you halve\n",
    "the stepsizes. "
   ]
  },
  {
   "cell_type": "markdown",
   "metadata": {},
   "source": [
    "### Problem embedded solution\n",
    "\n",
    "<div id=\"embedded_answer\"></div>\n",
    "\n",
    "\n",
    "for dt=0.2, RKCK is about 2 orders of magnitude more accurate\n",
    "\n",
    "**Code**"
   ]
  },
  {
   "cell_type": "code",
   "execution_count": 6,
   "metadata": {},
   "outputs": [
    {
     "name": "stderr",
     "output_type": "stream",
     "text": [
      "/Users/phil/a50037/envs/numeric/lib/python3.7/site-packages/ipykernel_launcher.py:43: RuntimeWarning: divide by zero encountered in log10\n",
      "/Users/phil/a50037/envs/numeric/lib/python3.7/site-packages/ipykernel_launcher.py:44: RuntimeWarning: divide by zero encountered in log10\n"
     ]
    },
    {
     "name": "stdout",
     "output_type": "stream",
     "text": [
      "RKCK appears more accurate of the schemes for dt = 0.2\n"
     ]
    },
    {
     "data": {
      "image/png": "[encoded data removed]",
      "text/plain": [
       "<Figure size 432x288 with 1 Axes>"
      ]
     },
     "metadata": {
      "needs_background": "light"
     },
     "output_type": "display_data"
    },
    {
     "data": {
      "image/png": "[encoded data removed]",
      "text/plain": [
       "<Figure size 432x288 with 1 Axes>"
      ]
     },
     "metadata": {
      "needs_background": "light"
     },
     "output_type": "display_data"
    }
   ],
   "source": [
    "import numpy as np\n",
    "from matplotlib import pyplot as plt\n",
    "\n",
    "from numlabs.lab4.lab4_functions import initinter41,rk4ODEinter41,rkckODEinter41\n",
    "initialVals={'yinitial': 1,'t_beg':0.,'t_end':1.,'dt':0.2,'c1':-1.,'c2':1.,'c3':1.}\n",
    "coeff = initinter41(initialVals)\n",
    "\n",
    "timeVec=np.arange(coeff.t_beg,coeff.t_end,coeff.dt)\n",
    "nsteps=len(timeVec)\n",
    "ye=[]\n",
    "ym=[]\n",
    "yrk=[]\n",
    "yrkck=[]\n",
    "y1=coeff.yinitial\n",
    "y2=coeff.yinitial\n",
    "yrk.append(coeff.yinitial)\n",
    "yrkck.append(coeff.yinitial)\n",
    "for i in np.arange(1,nsteps):\n",
    "    ynew=rk4ODEinter41(coeff,y1,timeVec[i-1])\n",
    "    yrk.append(ynew)\n",
    "    y1=ynew \n",
    "    ynew=rkckODEinter41(coeff,y2,timeVec[i-1])\n",
    "    yrkck.append(ynew)\n",
    "    y2=ynew \n",
    "analytic=timeVec + np.exp(-timeVec)\n",
    "theFig,theAx=plt.subplots(1,1)\n",
    "l1=theAx.plot(timeVec,analytic,'b-',label='analytic')\n",
    "theAx.set_xlabel('time (seconds)')\n",
    "l2=theAx.plot(timeVec,yrkck,'g-',label='rkck')\n",
    "l3=theAx.plot(timeVec,yrk,'m-',label='rk')\n",
    "theAx.legend(loc='best')\n",
    "theAx.set_title('interactive 4.3')\n",
    "\n",
    "# add error plot \n",
    "rkck_diff = np.abs(analytic - yrkck)\n",
    "rk_diff = np.abs(analytic - yrk)\n",
    "\n",
    "\n",
    "theFig, theAx=plt.subplots(1,1)\n",
    "\n",
    "theAx.set_xlabel('time (seconds)')\n",
    "theAx.set_ylabel('log(error)')\n",
    "l2=theAx.plot(timeVec,np.log10(rkck_diff),'r-',label='rkck error')\n",
    "l3=theAx.plot(timeVec,np.log10(rk_diff),'g-',label='rk error')\n",
    "\n",
    "theAx.legend(loc='upper left')\n",
    "theAx.set_title('error plot for original dt = {}'.format(initialVals['dt']))\n",
    "\n",
    "out_string = 'RKCK appears more accurate of the schemes for dt = {}'.format(initialVals['dt'])\n",
    "print(out_string)\n",
    "end_error_orig = rkck_diff[-1]"
   ]
  },
  {
   "cell_type": "markdown",
   "metadata": {},
   "source": [
    "Halving the timestep to dt=0.1 gives RKCK 3 orders of magnitude better\n",
    "accuracy than RKODE\n",
    "\n",
    "**Code**"
   ]
  },
  {
   "cell_type": "code",
   "execution_count": 7,
   "metadata": {},
   "outputs": [
    {
     "name": "stdout",
     "output_type": "stream",
     "text": [
      "Degree of error decreased to 1e-9.5 when the timestep is halved to dt = 0.1\n",
      "At t = 1.0 s, original timestep error = 1.407e-08, halved error = 4.824e-10\n",
      "Halved error/original error = 2.917e+01 at t = 1.0 s\n",
      "Errors at t = 1.0 s: RKCK = 4.824e-10, RK = 3.315e-07\n"
     ]
    },
    {
     "name": "stderr",
     "output_type": "stream",
     "text": [
      "/Users/phil/a50037/envs/numeric/lib/python3.7/site-packages/ipykernel_launcher.py:43: RuntimeWarning: divide by zero encountered in log10\n",
      "/Users/phil/a50037/envs/numeric/lib/python3.7/site-packages/ipykernel_launcher.py:44: RuntimeWarning: divide by zero encountered in log10\n"
     ]
    },
    {
     "data": {
      "image/png": "[encoded data removed]",
      "text/plain": [
       "<Figure size 432x288 with 1 Axes>"
      ]
     },
     "metadata": {
      "needs_background": "light"
     },
     "output_type": "display_data"
    },
    {
     "data": {
      "image/png": "[encoded data removed]",
      "text/plain": [
       "<Figure size 432x288 with 1 Axes>"
      ]
     },
     "metadata": {
      "needs_background": "light"
     },
     "output_type": "display_data"
    }
   ],
   "source": [
    "import numpy as np\n",
    "from matplotlib import pyplot as plt\n",
    "\n",
    "from numlabs.lab4.lab4_functions import initinter41,rk4ODEinter41,rkckODEinter41\n",
    "initialVals={'yinitial': 1,'t_beg':0.,'t_end':1.,'dt':0.1,'c1':-1.,'c2':1.,'c3':1.}\n",
    "coeff = initinter41(initialVals)\n",
    "\n",
    "timeVec=np.arange(coeff.t_beg,coeff.t_end,coeff.dt)\n",
    "nsteps=len(timeVec)\n",
    "ye=[]\n",
    "ym=[]\n",
    "yrk=[]\n",
    "yrkck=[]\n",
    "y1=coeff.yinitial\n",
    "y2=coeff.yinitial\n",
    "yrk.append(coeff.yinitial)\n",
    "yrkck.append(coeff.yinitial)\n",
    "for i in np.arange(1,nsteps):\n",
    "    ynew=rk4ODEinter41(coeff,y1,timeVec[i-1])\n",
    "    yrk.append(ynew)\n",
    "    y1=ynew \n",
    "    ynew=rkckODEinter41(coeff,y2,timeVec[i-1])\n",
    "    yrkck.append(ynew)\n",
    "    y2=ynew \n",
    "analytic=timeVec + np.exp(-timeVec)\n",
    "theFig,theAx=plt.subplots(1,1)\n",
    "l1=theAx.plot(timeVec,analytic,'b-',label='analytic')\n",
    "theAx.set_xlabel('time (seconds)')\n",
    "l2=theAx.plot(timeVec,yrkck,'g-',label='rkck')\n",
    "l3=theAx.plot(timeVec,yrk,'m-',label='rk')\n",
    "theAx.legend(loc='best')\n",
    "theAx.set_title('interactive 4.3')\n",
    "\n",
    "# add error plot \n",
    "rkck_diff = np.abs(analytic - yrkck)\n",
    "rk_diff = np.abs(analytic - yrk)\n",
    "\n",
    "\n",
    "theFig, theAx=plt.subplots(1,1)\n",
    "\n",
    "theAx.set_xlabel('time (seconds)')\n",
    "theAx.set_ylabel('log(error)')\n",
    "l2=theAx.plot(timeVec,np.log10(rkck_diff),'r-',label='rkck error')\n",
    "l3=theAx.plot(timeVec,np.log10(rk_diff),'g-',label='rk error')\n",
    "\n",
    "theAx.legend(loc='upper left')\n",
    "theAx.set_title('error plot for dt = {}'.format(initialVals['dt']))\n",
    "\n",
    "out_string = 'Degree of error decreased to 1e-9.5 when the timestep is halved to dt = {}'.format(coeff.dt)\n",
    "print(out_string)\n",
    "end_error_half = rkck_diff[-1]\n",
    "print('At t = 1.0 s, original timestep error = {:.3e}, halved error = {:.3e}'.format(end_error_orig, end_error_half))\n",
    "print('Halved error/original error = {:.3e} at t = 1.0 s'.format(end_error_orig/end_error_half))\n",
    "print('Errors at t = 1.0 s: RKCK = {:.3e}, RK = {:.3e}'.format(end_error_half, rk_diff[-1]))"
   ]
  },
  {
   "cell_type": "markdown",
   "metadata": {},
   "source": [
    "# moving from a notebook to a library\n",
    "\n",
    "If we want our ODE routines to be more generally useful, we need to lift\n",
    "two restrictions from the code:\n",
    "\n",
    "1.  Inital conditions are currently specified in the main script as a dictionary, e.g.:\n",
    "  \n",
    "    ```python\n",
    "    \n",
    "       initialVals={'yinitial': 1,'t_beg':0.,'t_end':1.,\n",
    "                    'dt':0.2,'c1':-1.,'c2':1.,'c3':1.}                \n",
    "            \n",
    "    ```               \n",
    "    and then converted to a named tuple in [initinter41](https://github.com/phaustin/numeric/blob/master/numlabs/lab4/lab4_functions.py#L5-L9)\n",
    "   \n",
    "    We need to move this into an external configuration file that we can keep track of using\n",
    "    version control, so we can keep the library code  and the input\n",
    "    and output files in separate folders and keep a record of our runs.\n",
    "    \n",
    "2.  The derivatives are hardwired into the library, for example in\n",
    "    [eulerinter41](https://github.com/phaustin/numeric/blob/3bab591fb584abbc95757eb40ae5c83dce3cb94a/numlabs/lab4/lab4_functions.py#L15-L17), \n",
    "    .  We need to be able to have integrators work with any derivative function.\n",
    "    \n",
    "## Writing a config file\n",
    "\n",
    "Python has a variety of configuration libraries, including [configparser](https://docs.python.org/3.4/library/configparser.html) in the standard library.  This is\n",
    "overkill, however, for our simple programs.  We just need a way to input and output a\n",
    "dictionary in human readable form.  One example of how to do this is\n",
    "[write_init.py](https://github.com/phaustin/numeric/blob/master/numlabs/lab4/example/write_init.py):\n",
    "\n",
    "```python\n",
    "\n",
    "    \"\"\"\n",
    "       write the initial condition file for the simple oscillator\n",
    "       example\n",
    "    \"\"\"\n",
    "\n",
    "    import json\n",
    "\n",
    "    initialVals={'yinitial': [0.,1.],'t_beg':0.,'t_end':40.,'dt':0.1,'c1':0.,'c2':1.}\n",
    "    initialVals['comment'] = 'written Sep. 29, 2015'\n",
    "    initialVals['plot_title'] = 'simple damped oscillator run 1'\n",
    "\n",
    "    with open('run_1.json','w') as f:\n",
    "          f.write(json.dumps(initialVals,indent=4))\n",
    "```\n",
    "\n",
    "When you run this from the command line or IPython with:\n",
    "\n",
    "\n",
    "    In [19]: run write_init\n",
    "    \n",
    "you get a json [Javascript Object Notation](https://en.wikipedia.org/wiki/JSON)\n",
    "file that looks like this:\n",
    "\n",
    "```javascript\n",
    "\n",
    "    {\n",
    "        \"t_beg\": 0.0,\n",
    "        \"c1\": 0.0,\n",
    "        \"c2\": 1.0,\n",
    "        \"t_end\": 40.0,\n",
    "        \"dt\": 0.1,\n",
    "        \"plot_title\": \"simple damped oscillator run 1\",\n",
    "        \"comment\": \"written Sep. 29, 2015\",\n",
    "        \"yinitial\": [\n",
    "            0.0,\n",
    "            1.0\n",
    "        ]\n",
    "    }\n",
    "```\n",
    "This format is simple enough to change with a text editor.\n",
    "\n",
    "To load this into a program, do something like [read_init.py](https://github.com/phaustin/numeric/blob/master/numlabs/lab4/example/read_init.py):\n",
    "\n",
    "```python\n",
    "\n",
    "    import json\n",
    "    from collections import namedtuple\n",
    "\n",
    "    with open('run_1.json','r') as f:\n",
    "          init_dict=json.load(f)\n",
    "\n",
    "    print('as a dictionary:\\n{}\\n'.format(init_dict))\n",
    "\n",
    "    #either use this as a dict or convert to a namedtuple\n",
    "    initvals=namedtuple('initvals','dt c1 c2 t_beg t_end yinitial comment plot_title')\n",
    "    theCoeff=initvals(**init_dict)\n",
    "\n",
    "    print('as a namedtuple:\\n{}'.format(theCoeff))\n",
    "\n",
    "```\n",
    "\n",
    "which produces:\n",
    "\n",
    "```\n",
    "In [21]: run read_init\n",
    "as a dictionary:\n",
    "{'yinitial': [0.0, 1.0], 'c2': 1.0, 'plot_title': 'simple damped oscillator run 1', 'comment': 'written Sep. 29, 2015', 't_end': 40.0, 'c1': 0.0, 't_beg': 0.0, 'dt': 0.1}\n",
    "\n",
    "as a namedtuple:\n",
    "initvals(dt=0.1, c1=0.0, c2=1.0, t_beg=0.0, t_end=40.0, yinitial=[0.0, 1.0], comment='written Sep. 29, 2015', plot_title='simple damped oscillator run 1')\n",
    "```\n",
    "\n",
    "\n"
   ]
  },
  {
   "cell_type": "markdown",
   "metadata": {},
   "source": [
    "## Passing a derivative function to an integrator\n",
    "\n",
    "In python, functions are first class objects, which means you can pass them around like any\n",
    "other datatype, no need to get function handles as in matlab or Fortran.  The integrators\n",
    "in [test.py](https://github.com/phaustin/numeric/blob/master/numlabs/lab4/example/test.py)\n",
    "have been written to accept a derivative function of the form:\n",
    "\n",
    "```python\n",
    "    def derivs4(coeff, y):\n",
    "```\n",
    "\n",
    "i.e. as long as the derivative can be written in terms of coefficients\n",
    "and the previous value of y, the integrator will move the ode ahead one\n",
    "timestep.  If we wanted coefficients that were a function of time, we would\n",
    "need to also include those functions the coeff namedtuple, and add keep track of the\n",
    "timestep through the integration.\n",
    "\n",
    "Here's an example using foward euler to integrate the harmonic oscillator"
   ]
  },
  {
   "cell_type": "code",
   "execution_count": 8,
   "metadata": {
    "lines_to_next_cell": 2,
    "scrolled": true
   },
   "outputs": [
    {
     "data": {
      "text/plain": [
       "Text(0, 0.5, 'y0')"
      ]
     },
     "execution_count": 8,
     "metadata": {},
     "output_type": "execute_result"
    },
    {
     "data": {
      "image/png": "[encoded data removed]",
      "text/plain": [
       "<Figure size 576x576 with 1 Axes>"
      ]
     },
     "metadata": {
      "needs_background": "light"
     },
     "output_type": "display_data"
    }
   ],
   "source": [
    "%matplotlib inline\n",
    "\n",
    "import json\n",
    "from numlabs.lab4.example.test import read_init,euler4\n",
    "#\n",
    "# specify the derivs function\n",
    "#\n",
    "def derivs(coeff, y):\n",
    "  f=np.empty_like(y) #create a 2 element vector to hold the derivitive\n",
    "  f[0]=y[1]\n",
    "  f[1]= -1.*coeff.c1*y[1] - coeff.c2*y[0]\n",
    "  return f\n",
    "#\n",
    "# first make sure we have an input file in this directory\n",
    "#\n",
    "initialVals={'yinitial': [0.,1.],'t_beg':0.,'t_end':40.,'dt':0.1,'c1':0.,'c2':1.}\n",
    "initialVals['comment'] = 'written Sep. 29, 2015'\n",
    "initialVals['plot_title'] = 'simple damped oscillator run 1'\n",
    "\n",
    "infile='run_1.json'\n",
    "with open(infile,'w') as f:\n",
    "      f.write(json.dumps(initialVals,indent=4))\n",
    "#\n",
    "#  now read the initial information into a namedtuple coeff\n",
    "#\n",
    "        \n",
    "infile='run_1.json'\n",
    "coeff=read_init(infile)\n",
    "\n",
    "#\n",
    "# integrate and save the result in savedata\n",
    "#\n",
    "time=np.arange(coeff.t_beg,coeff.t_end,coeff.dt)\n",
    "y=coeff.yinitial\n",
    "nsteps=len(time) \n",
    "savedata=np.empty([nsteps],np.float64)\n",
    "for i in range(nsteps):\n",
    "    y=euler4(coeff,y,derivs)\n",
    "    savedata[i]=y[0]\n",
    "\n",
    "theFig,theAx=plt.subplots(1,1,figsize=(8,8))\n",
    "theAx.plot(time,savedata,'o-')\n",
    "theAx.set_title(coeff.plot_title)\n",
    "theAx.set_xlabel('time (seconds)')\n",
    "theAx.set_ylabel('y0')       "
   ]
  },
  {
   "cell_type": "markdown",
   "metadata": {},
   "source": [
    "<a name=\"prob_a\"></a>\n",
    "\n",
    "**problem coding A**: Try out [the lab4 example](https://github.com/phaustin/numeric/tree/master/numlabs/lab4/example):\n",
    "\n",
    "As set up above, test.py\n",
    "solved the damped, harmonic oscillator with the (unstable) forward Euler method.\n",
    "\n",
    "1.  Write a new routine that solves the harmonic oscilator using [Heun’s method](#eq_heuns)\n",
    "    along the lines of the routines in [lab4_functions.py](https://github.com/phaustin/numeric/blob/master/numlabs/lab4/lab4_functions.py)\n",
    "\n",
    "    Hand in a notebook with the code and a plot.\n",
    "\n",
    "<a name=\"prob_b\"></a>    \n",
    "**problem coding B**:\n",
    "\n",
    "1.  Now solve the following test equation by both the midpoint and\n",
    "    Heun’s method and compare. $$f(y,t) = t - y  + 1.0$$ Choose two sets\n",
    "    of initial conditions and investigate the behaviour.\n",
    "\n",
    "2.  Is there any difference between the two methods when applied to\n",
    "    either problem? Should there be? Explain by analyzing the steps\n",
    "    that each method is taking.\n",
    "\n",
    "<a name=\"prob_c\"></a>    \n",
    "**problem coding C**:\n",
    "\n",
    "6.  Solve the Newtonian cooling equation of lab 1 by any of the above\n",
    "    methods. \n",
    "\n",
    "7.  Hand in some sample plots along with the parameter values and\n",
    "    initial conditions used."
   ]
  },
  {
   "cell_type": "markdown",
   "metadata": {},
   "source": [
    "# Mathematical Notes \n",
    "\n",
    "<!-- {#lab4:ap:mathnote} -->\n",
    "\n",
    "\n",
    "<!--  {#lab4:ap:midpointderiv} -->\n",
    "\n",
    "## Note on the Derivation of the Second-Order Runge-Kutta Methods\n",
    "\n",
    "A general s-stage Runge-Kutta method can be written as,\n",
    "\n",
    "$$\n",
    "\\begin{aligned}\n",
    "  \\begin{array}{l}\n",
    "    k_i = h f(y_n+ {\\displaystyle \\sum_{j=1}^{s} } b_{ij}k_j, t_n+a_ih), \n",
    "                                                          \\;\\;\\; i=1,..., s\\\\\n",
    "    y_{n+1} = y_n + {\\displaystyle \\sum_{j=1}^{s}} c_jk_j \n",
    "  \\end{array}\\end{aligned}$$ \n",
    "  \n",
    "  where\n",
    "\n",
    "${\\displaystyle \\sum_{j=1}^{s} } b_{ij} = a_i$.\n",
    "\n",
    "In particular, an *explicit* 2-stage Runge-Kutta method can\n",
    "be written as, \n",
    "\n",
    "$$\n",
    "\\begin{aligned}\n",
    "  \\begin{array}{l}\n",
    "    k_1 =  h f(y_n,t_n)\\\\\n",
    "    k_2 = h f(y_n+ak_1, t_n+ah)\\\\\n",
    "    y_{n+1} = y_n + c_1k_1 +c_2k_2\n",
    "  \\end{array}\n",
    "  \\end{aligned}\n",
    "  $$\n",
    "  where \n",
    " \n",
    " $  b_{21} = a_2 \\equiv a$. \n",
    "  \n",
    "  So we want\n",
    "to know what values of $a$, $c_1$ and $c_2$ leads to a second-order\n",
    "method, i.e. a method with an error proportional to $h^3$.\n",
    "\n",
    "To find out, we compare the method against a second-order Taylor expansion,\n",
    "\n",
    "<!-- \\label{lab4:eq:taylor} -->\n",
    "\n",
    "$$\n",
    "  y(t_n+h) = y(t_n) + hy^\\prime(t_n) + \\frac{h^2}{2}y^{\\prime \\prime}(t_n)\n",
    "             + O(h^3)\n",
    "$$\n",
    "\n",
    "So for the $y_{n+1}$ to be second-order accurate, it must match the\n",
    "Taylor method. In other words, $c_1k_1 +c_2k_2$ must\n",
    "match $hy^\\prime(t_n) + \\frac{h^2}{2}y^{\\prime \\prime}$. To do this, we\n",
    "need to express $k_1$ and $k_2$ in terms of derivatives of $y$ at time\n",
    "$t_n$.\n",
    "\n",
    "First note, $k_1 = hf(y_n, t_n) = hy^\\prime(t_n)$.\n",
    "\n",
    "Next, we can expand $k_2$ about $(y_n.t_n)$, \n",
    "\n",
    "<!-- \\label{lab4:eq:k1} -->\n",
    "\n",
    "$$\n",
    "k_2 = hf(y_n+ak_1, t_n+ah) = h(f + haf_t + haf_yy^\\prime + O(h^2))\n",
    "$$\n",
    "\n",
    "<!-- \\label{lab4:eq:secder} -->\n",
    "\n",
    "However, we can write $y^{\\prime \\prime}$ as, $$\n",
    "  y^{\\prime \\prime} = \\frac{df}{dt} = f_t + f_yy^\\prime$$ This allows us\n",
    "to rewrite $k_2$ in terms of $y^{\\prime \\prime}$,\n",
    "\n",
    "$$k_2 = h(y^\\prime +  hay^{\\prime \\prime}+ O(h^2))$$\n",
    "\n",
    "Substituting these expressions for $k_i$ back into the Runge-Kutta\n",
    "formula gives us,\n",
    "$$y_{n+1} = y_n + c_1hy^\\prime +c_2h(y^\\prime +  hay^{\\prime \\prime})$$\n",
    "or $$y_{n+1} = y_n + h(c_1 +c_2)y^\\prime +  h^2(c_2a)y^{\\prime \\prime}$$\n",
    "\n",
    "If we compare this against the second-order Taylor method,\n",
    "we see that we need, \n",
    "\n",
    "$$\n",
    "\\begin{aligned}\n",
    "   \\begin{array}{l}\n",
    "  c_1 + c_2 = 1\\\\\n",
    "  a c_2 = \\frac{1}{2}\n",
    "   \\end{array}\n",
    "   \\end{aligned}\n",
    "   $$ \n",
    "   \n",
    "for the Runge-Kutta method to be\n",
    "second-order.\n",
    "\n",
    "<a name=\"app_midpoint\"></a>\n",
    "If we choose $a = 1/2$, this implies $c_2 = 1$ and $c_1=0$. This gives\n",
    "us the midpoint method.\n",
    "\n",
    "However, note that other choices are possible. In fact, we have a\n",
    "*one-parameter family* of second-order methods. For example\n",
    "if we choose, $a=1$ and $c_1=c_2=\\frac{1}{2}$, we get the\n",
    "*modified Euler method*,\n",
    "\n",
    "<!-- \\label{lab4:eq:modifiedeuler} -->\n",
    "\n",
    "$$\n",
    "\\begin{aligned}\n",
    "    \\begin{array}{l}\n",
    "    k_1 =  h f(y_n,t_n)\\\\\n",
    "    k_2 = h f(y_n+k_1, t_n+h)\\\\\n",
    "    y_{n+1} = y_n + \\frac{1}{2}(k_1 +k_2)\n",
    "  \\end{array}\n",
    "    \\end{aligned}$$ \n",
    "    \n",
    "    while the choice\n",
    "$a=\\frac{2}{3}$, $c_1=\\frac{1}{4}$ and $c_2=\\frac{3}{4}$, gives us\n",
    "*Heun’s method*,\n",
    "\n",
    "<!-- \\label{lab4:eq:heuns} -->\n",
    "\n",
    "<a name=\"eq_heuns\"></a>\n",
    "$$\n",
    "\\begin{aligned}\n",
    "  \\begin{array}{l}\n",
    "    k_1 =  h f(y_n,t_n)\\\\\n",
    "    k_2 = h f(y_n+\\frac{2}{3}k_1, t_n+\\frac{2}{3}h)\\\\\n",
    "    y_{n+1} = y_n + \\frac{1}{4}k_1 + \\frac{3}{4}k_2\n",
    "  \\end{array}\n",
    "   \\end{aligned}\n",
    "$$"
   ]
  },
  {
   "cell_type": "markdown",
   "metadata": {},
   "source": [
    "# Glossary \n",
    "\n",
    "\n",
    "- **driver**  A routine that calls the other routines to solve the\n",
    "  problem.\n",
    "\n",
    "- **embedded Runge-Kutta methods**:  Two Runge-Kutta\n",
    "  methods that share the same stages. The difference between the solutions\n",
    "  give an estimate of the local truncation error.\n",
    "\n",
    "- **explicit**  In an explicit numerical scheme, the calculation of the solution at a given\n",
    "  step or stage does not depend on the value of the solution at that step\n",
    "  or on a later step or stage.\n",
    "              \n",
    "- **fourth-order Runge-Kutta method**  A popular fourth-order, four-stage, explicit Runge-Kutta\n",
    "  method.\n",
    "\n",
    "- **implicit**: In an implicit numerical scheme, the\n",
    "  calculation of the solution at a given step or stage does depend on the\n",
    "  value of the solution at that step or on a later step or stage. Such\n",
    "  methods are usually more expensive than implicit schemes but are better\n",
    "  for handling stiff ODEs.\n",
    "\n",
    "- **midpoint method** :  A two-stage,\n",
    "  second-order Runge-Kutta method.\n",
    "\n",
    "- **stages**:  The approximations\n",
    "  to the derivative made in a Runge-Kutta method between the start and end\n",
    "  of a step.\n",
    "\n",
    "- **tableau**  The tableau for a Runge-Kutta method\n",
    "  organizes the coefficients for the method in tabular form.\n",
    "\n"
   ]
  },
  {
   "cell_type": "code",
   "execution_count": null,
   "metadata": {},
   "outputs": [],
   "source": []
  },
  {
   "cell_type": "code",
   "execution_count": null,
   "metadata": {
    "lines_to_next_cell": 3
   },
   "outputs": [],
   "source": []
  }
 ],
 "metadata": {
  "jupytext": {
   "cell_metadata_filter": "all",
   "encoding": "# -*- coding: utf-8 -*-",
   "notebook_metadata_filter": "all,-language_info,-toc,-latex_envs",
   "text_representation": {
    "extension": ".py",
    "format_name": "percent",
    "format_version": "1.3",
    "jupytext_version": "1.3.4"
   }
  },
  "kernelspec": {
   "display_name": "Python 3",
   "language": "python",
   "name": "python3"
  },
  "language_info": {
   "codemirror_mode": {
    "name": "ipython",
    "version": 3
   },
   "file_extension": ".py",
   "mimetype": "text/x-python",
   "name": "python",
   "nbconvert_exporter": "python",
   "pygments_lexer": "ipython3",
   "version": "3.7.6"
  },
  "latex_envs": {
   "LaTeX_envs_menu_present": true,
   "autoclose": false,
   "autocomplete": true,
   "bibliofile": "biblio.bib",
   "cite_by": "apalike",
   "current_citInitial": 1,
   "eqLabelWithNumbers": true,
   "eqNumInitial": 1,
   "hotkeys": {
    "equation": "meta-9"
   },
   "labels_anchors": false,
   "latex_user_defs": false,
   "report_style_numbering": false,
   "user_envs_cfg": false
  },
  "toc": {
   "base_numbering": 1,
   "nav_menu": {},
   "number_sections": true,
   "sideBar": true,
   "skip_h1_title": true,
   "title_cell": "Table of Contents",
   "title_sidebar": "Contents",
   "toc_cell": false,
   "toc_position": {
    "height": "calc(100% - 180px)",
    "left": "10px",
    "top": "150px",
    "width": "165px"
   },
   "toc_section_display": "block",
   "toc_window_display": true
  }
 },
 "nbformat": 4,
 "nbformat_minor": 1
}
